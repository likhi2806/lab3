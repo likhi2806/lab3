{
 "cells": [
  {
   "cell_type": "code",
   "execution_count": 1,
   "metadata": {},
   "outputs": [],
   "source": [
    "def astaralgo(startnode,endnode):\n",
    "    op=set(startnode)\n",
    "    cl=set()\n",
    "    g={}\n",
    "    parent={}\n",
    "    parent[startnode]=startnode\n",
    "    print(\"parent\",parent)\n",
    "    g[startnode]=0\n",
    "    while len(op)>0:\n",
    "        n=None\n",
    "        for v in op:\n",
    "            if n==None or g[v]+heu[v]<g[n]+heu[n]:\n",
    "                n=v\n",
    "        if n == endnode or graph[n]==None:\n",
    "            pass\n",
    "        else:\n",
    "            for (m,weight) in get_adjacent(n):\n",
    "                if m not in op and m not in cl:\n",
    "                    op.add(m)\n",
    "                    g[m]=g[n]+weight\n",
    "                    parent[m]=n\n",
    "                else:\n",
    "                    if g[m]>g[n]+weight:\n",
    "                        g[m] = g[n]+weight\n",
    "                        parent[m]=n\n",
    "                        if m in cl:\n",
    "                            cl.remove(m)\n",
    "                            op.add(m)\n",
    "        if n == endnode:\n",
    "            path=[]\n",
    "            while parent[n]!=n:\n",
    "                path.append(n)\n",
    "                n = parent[n]\n",
    "            path.append(startnode)\n",
    "            path.reverse()\n",
    "            print(\"------path found----\")\n",
    "            return path\n",
    "        op.remove(n)\n",
    "        cl.add(n)\n",
    "    print(\"path does not exist\")"
   ]
  },
  {
   "cell_type": "code",
   "execution_count": 2,
   "metadata": {},
   "outputs": [],
   "source": [
    "def get_adjacent(v):\n",
    "    if v in graph:\n",
    "        return graph[v]\n",
    "    else:\n",
    "        None"
   ]
  },
  {
   "cell_type": "code",
   "execution_count": 3,
   "metadata": {},
   "outputs": [],
   "source": [
    "graph={'S':[('A',1),('G',12)],\n",
    "      'A':[('B',3),('C',1)],\n",
    "      'B':[('D',3)],\n",
    "      'C':[('D',1),('G',2)],\n",
    "      'D':[('G',3)],\n",
    "      'G':None}"
   ]
  },
  {
   "cell_type": "code",
   "execution_count": 4,
   "metadata": {},
   "outputs": [],
   "source": [
    "heu = {'S':4,'A':2,'B':6,'C':2,'D':3,'G':0}"
   ]
  },
  {
   "cell_type": "code",
   "execution_count": 5,
   "metadata": {},
   "outputs": [
    {
     "name": "stdout",
     "output_type": "stream",
     "text": [
      "parent {'S': 'S'}\n",
      "------path found----\n"
     ]
    },
    {
     "data": {
      "text/plain": [
       "['S', 'A', 'C', 'G']"
      ]
     },
     "execution_count": 5,
     "metadata": {},
     "output_type": "execute_result"
    }
   ],
   "source": [
    "astaralgo('S','G')"
   ]
  },
  {
   "cell_type": "code",
   "execution_count": null,
   "metadata": {},
   "outputs": [],
   "source": []
  }
 ],
 "metadata": {
  "kernelspec": {
   "display_name": "Python 3",
   "language": "python",
   "name": "python3"
  },
  "language_info": {
   "codemirror_mode": {
    "name": "ipython",
    "version": 3
   },
   "file_extension": ".py",
   "mimetype": "text/x-python",
   "name": "python",
   "nbconvert_exporter": "python",
   "pygments_lexer": "ipython3",
   "version": "3.5.6"
  }
 },
 "nbformat": 4,
 "nbformat_minor": 2
}
